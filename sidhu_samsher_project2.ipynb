{
 "cells": [
  {
   "cell_type": "markdown",
   "id": "792af67a",
   "metadata": {},
   "source": [
    "# 1.a Newton's cannon\n",
    "\n",
    "Assuming gravitational force constant is **6.67e-11 kg^-2 m^2** Initial velocity is **7300 m/s (escape velocity)** \n",
    "\n",
    "The ball should circle around earth in a perfect circular orbit. \n",
    "\n",
    "To verify, the orbit in the simulation should appear circular and stay in a constant orbit for the entirety of the simulation. Because of the scale of the simulation, I made the cannonball large so the trail is visible. It is 3000m across compared to the actual size of Earth. As well, the cannonball is 1 million meters from the surface of the earth which should be barely orbiting around the earth. It should look almost like an outline.\n",
    "\n",
    "Resources:\n",
    "https://en.wikipedia.org/wiki/Newton%27s_cannonball\n",
    "I also collaborated with Cameron Henning on parts of this project, specifically the newton's cannon (for figuring out force of gravity) and for using AU for the solar system as a unit of distance instead of meters (yay clean code)"
   ]
  },
  {
   "cell_type": "code",
   "execution_count": 2,
   "id": "84c1028a",
   "metadata": {},
   "outputs": [
    {
     "data": {
      "text/html": [
       "<div id=\"glowscript\" class=\"glowscript\"></div>"
      ],
      "text/plain": [
       "<IPython.core.display.HTML object>"
      ]
     },
     "metadata": {},
     "output_type": "display_data"
    },
    {
     "data": {
      "application/javascript": [
       "if (typeof Jupyter !== \"undefined\") { window.__context = { glowscript_container: $(\"#glowscript\").removeAttr(\"id\")};}else{ element.textContent = ' ';}"
      ],
      "text/plain": [
       "<IPython.core.display.Javascript object>"
      ]
     },
     "metadata": {},
     "output_type": "display_data"
    }
   ],
   "source": [
    "from vpython import *\n",
    "scene = canvas()\n",
    "\n",
    "#constants\n",
    "deltat = 10\n",
    "duration = 25000\n",
    "G = 6.67e-11\n",
    "earth_m = 5.972e24\n",
    "earth_rad = 6.371e6\n",
    "\n",
    "#cannonball class declaration and starting sim conditions\n",
    "class Cannonball:\n",
    "    mass = 10\n",
    "    v0 = 7300\n",
    "cb = Cannonball()\n",
    "cb_pos = vector(earth_rad + 1e6, 0, 0)\n",
    "cb_v = vector(0, cb.v0,0)\n",
    "\n",
    "#balls\n",
    "cball = sphere(pos = cb_pos, radius = 1500, color = color.white, make_trail = True)\n",
    "earth = sphere(pos = vector(0,0,0), radius=earth_rad, color=color.blue)\n",
    "\n",
    "#gravitational forces\n",
    "magnitude = mag(cb_pos)\n",
    "force = -(G * earth_m * cb.mass * cb_pos)/(pow(magnitude,3))\n",
    "\n",
    "for n in range(int(duration/deltat)):\n",
    "    cb_v = cb_v + (force*deltat)/cb.mass\n",
    "    cb_pos = cb_pos + (cb_v*deltat)\n",
    "    \n",
    "    #update gravity\n",
    "    magnitude = mag(cb_pos)\n",
    "    force = -(G * earth_m * cb.mass * cb_pos)/(pow(magnitude,3))\n",
    "    \n",
    "    cball.pos = cb_pos\n",
    "    rate(100)\n",
    "    "
   ]
  },
  {
   "cell_type": "markdown",
   "id": "60190add",
   "metadata": {},
   "source": [
    "# escape velocity\n",
    "\n",
    "Here is an example of when the cannonball's velocity is more than the orbital velocity of 7300 m/s, now at 10,000 m/s. This should cause the ball to break away from orbit and is the escape velocity shown in the reference."
   ]
  },
  {
   "cell_type": "code",
   "execution_count": 7,
   "id": "aaee55eb",
   "metadata": {},
   "outputs": [
    {
     "data": {
      "text/html": [
       "<div id=\"glowscript\" class=\"glowscript\"></div>"
      ],
      "text/plain": [
       "<IPython.core.display.HTML object>"
      ]
     },
     "metadata": {},
     "output_type": "display_data"
    },
    {
     "data": {
      "application/javascript": [
       "if (typeof Jupyter !== \"undefined\") { window.__context = { glowscript_container: $(\"#glowscript\").removeAttr(\"id\")};}else{ element.textContent = ' ';}"
      ],
      "text/plain": [
       "<IPython.core.display.Javascript object>"
      ]
     },
     "metadata": {},
     "output_type": "display_data"
    },
    {
     "ename": "KeyboardInterrupt",
     "evalue": "",
     "output_type": "error",
     "traceback": [
      "\u001b[1;31m---------------------------------------------------------------------------\u001b[0m",
      "\u001b[1;31mKeyboardInterrupt\u001b[0m                         Traceback (most recent call last)",
      "\u001b[1;32m~\\AppData\\Local\\Temp\\ipykernel_23260\\1827437159.py\u001b[0m in \u001b[0;36m<module>\u001b[1;34m\u001b[0m\n\u001b[0;32m     34\u001b[0m \u001b[1;33m\u001b[0m\u001b[0m\n\u001b[0;32m     35\u001b[0m     \u001b[0mcball\u001b[0m\u001b[1;33m.\u001b[0m\u001b[0mpos\u001b[0m \u001b[1;33m=\u001b[0m \u001b[0mcb_pos\u001b[0m\u001b[1;33m\u001b[0m\u001b[1;33m\u001b[0m\u001b[0m\n\u001b[1;32m---> 36\u001b[1;33m     \u001b[0mrate\u001b[0m\u001b[1;33m(\u001b[0m\u001b[1;36m100\u001b[0m\u001b[1;33m)\u001b[0m\u001b[1;33m\u001b[0m\u001b[1;33m\u001b[0m\u001b[0m\n\u001b[0m\u001b[0;32m     37\u001b[0m \u001b[1;33m\u001b[0m\u001b[0m\n",
      "\u001b[1;32mC:\\ProgramData\\Anaconda3\\lib\\site-packages\\vpython\\rate_control.py\u001b[0m in \u001b[0;36m__call__\u001b[1;34m(self, N)\u001b[0m\n\u001b[0;32m    264\u001b[0m         \u001b[0mself\u001b[0m\u001b[1;33m.\u001b[0m\u001b[0mrval\u001b[0m \u001b[1;33m=\u001b[0m \u001b[0mN\u001b[0m\u001b[1;33m\u001b[0m\u001b[1;33m\u001b[0m\u001b[0m\n\u001b[0;32m    265\u001b[0m         \u001b[1;32mif\u001b[0m \u001b[0mself\u001b[0m\u001b[1;33m.\u001b[0m\u001b[0mrval\u001b[0m \u001b[1;33m<\u001b[0m \u001b[1;36m1\u001b[0m\u001b[1;33m:\u001b[0m \u001b[1;32mraise\u001b[0m \u001b[0mValueError\u001b[0m\u001b[1;33m(\u001b[0m\u001b[1;34m\"rate value must be greater than or equal to 1\"\u001b[0m\u001b[1;33m)\u001b[0m\u001b[1;33m\u001b[0m\u001b[1;33m\u001b[0m\u001b[0m\n\u001b[1;32m--> 266\u001b[1;33m         \u001b[0msuper\u001b[0m\u001b[1;33m(\u001b[0m\u001b[0m_RateKeeper2\u001b[0m\u001b[1;33m,\u001b[0m \u001b[0mself\u001b[0m\u001b[1;33m)\u001b[0m\u001b[1;33m.\u001b[0m\u001b[0m__call__\u001b[0m\u001b[1;33m(\u001b[0m\u001b[0mself\u001b[0m\u001b[1;33m.\u001b[0m\u001b[0mrval\u001b[0m\u001b[1;33m)\u001b[0m \u001b[1;31m## calls __call__ in rate_control.py\u001b[0m\u001b[1;33m\u001b[0m\u001b[1;33m\u001b[0m\u001b[0m\n\u001b[0m\u001b[0;32m    267\u001b[0m \u001b[1;33m\u001b[0m\u001b[0m\n\u001b[0;32m    268\u001b[0m \u001b[1;33m\u001b[0m\u001b[0m\n",
      "\u001b[1;32mC:\\ProgramData\\Anaconda3\\lib\\site-packages\\vpython\\rate_control.py\u001b[0m in \u001b[0;36m__call__\u001b[1;34m(self, maxRate)\u001b[0m\n\u001b[0;32m    218\u001b[0m             \u001b[0mdt\u001b[0m \u001b[1;33m=\u001b[0m \u001b[0mself\u001b[0m\u001b[1;33m.\u001b[0m\u001b[0mlastSleep\u001b[0m \u001b[1;33m+\u001b[0m \u001b[0mself\u001b[0m\u001b[1;33m.\u001b[0m\u001b[0mcalls\u001b[0m\u001b[1;33m*\u001b[0m\u001b[1;33m(\u001b[0m\u001b[0mself\u001b[0m\u001b[1;33m.\u001b[0m\u001b[0muserTime\u001b[0m \u001b[1;33m+\u001b[0m \u001b[0mself\u001b[0m\u001b[1;33m.\u001b[0m\u001b[0mcallTime\u001b[0m \u001b[1;33m+\u001b[0m \u001b[0mself\u001b[0m\u001b[1;33m.\u001b[0m\u001b[0mdelay\u001b[0m\u001b[1;33m)\u001b[0m \u001b[1;33m+\u001b[0m\u001b[0;31m \u001b[0m\u001b[0;31m\\\u001b[0m\u001b[1;33m\u001b[0m\u001b[1;33m\u001b[0m\u001b[0m\n\u001b[0;32m    219\u001b[0m                  \u001b[0mrenders\u001b[0m\u001b[1;33m*\u001b[0m\u001b[0mself\u001b[0m\u001b[1;33m.\u001b[0m\u001b[0mrenderTime\u001b[0m \u001b[1;33m+\u001b[0m \u001b[0msleeps\u001b[0m\u001b[1;33m*\u001b[0m\u001b[0mself\u001b[0m\u001b[1;33m.\u001b[0m\u001b[0minteractionPeriod\u001b[0m \u001b[1;33m-\u001b[0m \u001b[0m_clock\u001b[0m\u001b[1;33m(\u001b[0m\u001b[1;33m)\u001b[0m\u001b[1;33m\u001b[0m\u001b[1;33m\u001b[0m\u001b[0m\n\u001b[1;32m--> 220\u001b[1;33m             \u001b[0m_sleep\u001b[0m\u001b[1;33m(\u001b[0m\u001b[0mdt\u001b[0m\u001b[1;33m)\u001b[0m\u001b[1;33m\u001b[0m\u001b[1;33m\u001b[0m\u001b[0m\n\u001b[0m\u001b[0;32m    221\u001b[0m             \u001b[0mself\u001b[0m\u001b[1;33m.\u001b[0m\u001b[0mlastSleep\u001b[0m \u001b[1;33m=\u001b[0m \u001b[0m_clock\u001b[0m\u001b[1;33m(\u001b[0m\u001b[1;33m)\u001b[0m\u001b[1;33m\u001b[0m\u001b[1;33m\u001b[0m\u001b[0m\n\u001b[0;32m    222\u001b[0m             \u001b[0mself\u001b[0m\u001b[1;33m.\u001b[0m\u001b[0mcalls\u001b[0m \u001b[1;33m=\u001b[0m \u001b[1;36m0\u001b[0m\u001b[1;33m\u001b[0m\u001b[1;33m\u001b[0m\u001b[0m\n",
      "\u001b[1;32mC:\\ProgramData\\Anaconda3\\lib\\site-packages\\vpython\\rate_control.py\u001b[0m in \u001b[0;36m_sleep\u001b[1;34m(dt)\u001b[0m\n\u001b[0;32m     60\u001b[0m         \u001b[0mdtsleep\u001b[0m \u001b[1;33m=\u001b[0m \u001b[0mnticks\u001b[0m\u001b[1;33m*\u001b[0m\u001b[0m_tick\u001b[0m\u001b[1;33m\u001b[0m\u001b[1;33m\u001b[0m\u001b[0m\n\u001b[0;32m     61\u001b[0m         \u001b[0mt\u001b[0m \u001b[1;33m=\u001b[0m \u001b[0m_clock\u001b[0m\u001b[1;33m(\u001b[0m\u001b[1;33m)\u001b[0m\u001b[1;33m\u001b[0m\u001b[1;33m\u001b[0m\u001b[0m\n\u001b[1;32m---> 62\u001b[1;33m         \u001b[0mtime\u001b[0m\u001b[1;33m.\u001b[0m\u001b[0msleep\u001b[0m\u001b[1;33m(\u001b[0m\u001b[0mdtsleep\u001b[0m\u001b[1;33m)\u001b[0m\u001b[1;33m\u001b[0m\u001b[1;33m\u001b[0m\u001b[0m\n\u001b[0m\u001b[0;32m     63\u001b[0m         \u001b[0mt\u001b[0m \u001b[1;33m=\u001b[0m \u001b[0m_clock\u001b[0m\u001b[1;33m(\u001b[0m\u001b[1;33m)\u001b[0m\u001b[1;33m-\u001b[0m\u001b[0mt\u001b[0m\u001b[1;33m\u001b[0m\u001b[1;33m\u001b[0m\u001b[0m\n\u001b[0;32m     64\u001b[0m         \u001b[0mdt\u001b[0m \u001b[1;33m-=\u001b[0m \u001b[0mt\u001b[0m\u001b[1;33m\u001b[0m\u001b[1;33m\u001b[0m\u001b[0m\n",
      "\u001b[1;31mKeyboardInterrupt\u001b[0m: "
     ]
    }
   ],
   "source": [
    "from vpython import *\n",
    "scene = canvas()\n",
    "\n",
    "#constants\n",
    "deltat = 10\n",
    "duration = 25000\n",
    "G = 6.67e-11\n",
    "earth_m = 5.972e24\n",
    "earth_rad = 6.371e6\n",
    "\n",
    "#cannonball class declaration and starting sim conditions\n",
    "class Cannonball:\n",
    "    mass = 10\n",
    "    v0 = 10000\n",
    "cb = Cannonball()\n",
    "cb_pos = vector(earth_rad + 1e6, 0, 0)\n",
    "cb_v = vector(0, cb.v0,0)\n",
    "\n",
    "#balls\n",
    "cball = sphere(pos = cb_pos, radius = 1500, color = color.white, make_trail = True)\n",
    "earth = sphere(pos = vector(0,0,0), radius=earth_rad, color=color.blue)\n",
    "\n",
    "#gravitational forces\n",
    "magnitude = mag(cb_pos)\n",
    "force = -(G * earth_m * cb.mass * cb_pos)/(pow(magnitude,3))\n",
    "\n",
    "for n in range(int(duration/deltat)):\n",
    "    cb_v = cb_v + (force*deltat)/cb.mass\n",
    "    cb_pos = cb_pos + (cb_v*deltat)\n",
    "    \n",
    "    #update gravity\n",
    "    magnitude = mag(cb_pos)\n",
    "    force = -(G * earth_m * cb.mass * cb_pos)/(pow(magnitude,3))\n",
    "    \n",
    "    cball.pos = cb_pos\n",
    "    rate(100)\n",
    "    "
   ]
  },
  {
   "cell_type": "markdown",
   "id": "622225a6",
   "metadata": {},
   "source": [
    "# 1.b the solar system we be living in\n",
    "\n",
    "Resources used: https://ssd.jpl.nasa.gov/horizons/app.html#/\n",
    "\n",
    "For this solar system simulation, there wasn't a need to go into class definitions rather than having **object/object property structure (earth, earth.mass, etc)**. This simple structure kept it easy to read and keep track of all the values I was worrying about.\n",
    "\n",
    "Inital values/parameters all came from the horizons zip folder and I made simulation time to be **1 loop = 1 hour (3600 seconds)** (and with rate at 300 the earth should complete 1 orbit in around a minute)\n",
    "\n"
   ]
  },
  {
   "cell_type": "code",
   "execution_count": 2,
   "id": "03b29dc8",
   "metadata": {},
   "outputs": [
    {
     "data": {
      "text/html": [
       "<div id=\"glowscript\" class=\"glowscript\"></div>"
      ],
      "text/plain": [
       "<IPython.core.display.HTML object>"
      ]
     },
     "metadata": {},
     "output_type": "display_data"
    },
    {
     "data": {
      "application/javascript": [
       "if (typeof Jupyter !== \"undefined\") { window.__context = { glowscript_container: $(\"#glowscript\").removeAttr(\"id\")};}else{ element.textContent = ' ';}"
      ],
      "text/plain": [
       "<IPython.core.display.Javascript object>"
      ]
     },
     "metadata": {},
     "output_type": "display_data"
    },
    {
     "ename": "KeyboardInterrupt",
     "evalue": "",
     "output_type": "error",
     "traceback": [
      "\u001b[1;31m---------------------------------------------------------------------------\u001b[0m",
      "\u001b[1;31mKeyboardInterrupt\u001b[0m                         Traceback (most recent call last)",
      "\u001b[1;32m~\\AppData\\Local\\Temp\\ipykernel_16320\\4202273270.py\u001b[0m in \u001b[0;36m<module>\u001b[1;34m\u001b[0m\n\u001b[0;32m     28\u001b[0m \u001b[1;33m\u001b[0m\u001b[0m\n\u001b[0;32m     29\u001b[0m \u001b[1;32mwhile\u001b[0m \u001b[1;32mTrue\u001b[0m\u001b[1;33m:\u001b[0m\u001b[1;33m\u001b[0m\u001b[1;33m\u001b[0m\u001b[0m\n\u001b[1;32m---> 30\u001b[1;33m     \u001b[0mrate\u001b[0m\u001b[1;33m(\u001b[0m\u001b[1;36m300\u001b[0m\u001b[1;33m)\u001b[0m\u001b[1;33m\u001b[0m\u001b[1;33m\u001b[0m\u001b[0m\n\u001b[0m\u001b[0;32m     31\u001b[0m     \u001b[1;32mfor\u001b[0m \u001b[0mplanet\u001b[0m \u001b[1;32min\u001b[0m \u001b[1;33m[\u001b[0m\u001b[0mmercury\u001b[0m\u001b[1;33m,\u001b[0m \u001b[0mvenus\u001b[0m\u001b[1;33m,\u001b[0m \u001b[0mearth\u001b[0m\u001b[1;33m,\u001b[0m \u001b[0mmars\u001b[0m\u001b[1;33m]\u001b[0m\u001b[1;33m:\u001b[0m\u001b[1;33m\u001b[0m\u001b[1;33m\u001b[0m\u001b[0m\n\u001b[0;32m     32\u001b[0m         \u001b[0mr_pos\u001b[0m \u001b[1;33m=\u001b[0m \u001b[0mplanet\u001b[0m\u001b[1;33m.\u001b[0m\u001b[0mpos\u001b[0m \u001b[1;33m-\u001b[0m \u001b[0msun\u001b[0m\u001b[1;33m.\u001b[0m\u001b[0mpos\u001b[0m\u001b[1;33m\u001b[0m\u001b[1;33m\u001b[0m\u001b[0m\n",
      "\u001b[1;32mC:\\ProgramData\\Anaconda3\\lib\\site-packages\\vpython\\rate_control.py\u001b[0m in \u001b[0;36m__call__\u001b[1;34m(self, N)\u001b[0m\n\u001b[0;32m    264\u001b[0m         \u001b[0mself\u001b[0m\u001b[1;33m.\u001b[0m\u001b[0mrval\u001b[0m \u001b[1;33m=\u001b[0m \u001b[0mN\u001b[0m\u001b[1;33m\u001b[0m\u001b[1;33m\u001b[0m\u001b[0m\n\u001b[0;32m    265\u001b[0m         \u001b[1;32mif\u001b[0m \u001b[0mself\u001b[0m\u001b[1;33m.\u001b[0m\u001b[0mrval\u001b[0m \u001b[1;33m<\u001b[0m \u001b[1;36m1\u001b[0m\u001b[1;33m:\u001b[0m \u001b[1;32mraise\u001b[0m \u001b[0mValueError\u001b[0m\u001b[1;33m(\u001b[0m\u001b[1;34m\"rate value must be greater than or equal to 1\"\u001b[0m\u001b[1;33m)\u001b[0m\u001b[1;33m\u001b[0m\u001b[1;33m\u001b[0m\u001b[0m\n\u001b[1;32m--> 266\u001b[1;33m         \u001b[0msuper\u001b[0m\u001b[1;33m(\u001b[0m\u001b[0m_RateKeeper2\u001b[0m\u001b[1;33m,\u001b[0m \u001b[0mself\u001b[0m\u001b[1;33m)\u001b[0m\u001b[1;33m.\u001b[0m\u001b[0m__call__\u001b[0m\u001b[1;33m(\u001b[0m\u001b[0mself\u001b[0m\u001b[1;33m.\u001b[0m\u001b[0mrval\u001b[0m\u001b[1;33m)\u001b[0m \u001b[1;31m## calls __call__ in rate_control.py\u001b[0m\u001b[1;33m\u001b[0m\u001b[1;33m\u001b[0m\u001b[0m\n\u001b[0m\u001b[0;32m    267\u001b[0m \u001b[1;33m\u001b[0m\u001b[0m\n\u001b[0;32m    268\u001b[0m \u001b[1;33m\u001b[0m\u001b[0m\n",
      "\u001b[1;32mC:\\ProgramData\\Anaconda3\\lib\\site-packages\\vpython\\rate_control.py\u001b[0m in \u001b[0;36m__call__\u001b[1;34m(self, maxRate)\u001b[0m\n\u001b[0;32m    218\u001b[0m             \u001b[0mdt\u001b[0m \u001b[1;33m=\u001b[0m \u001b[0mself\u001b[0m\u001b[1;33m.\u001b[0m\u001b[0mlastSleep\u001b[0m \u001b[1;33m+\u001b[0m \u001b[0mself\u001b[0m\u001b[1;33m.\u001b[0m\u001b[0mcalls\u001b[0m\u001b[1;33m*\u001b[0m\u001b[1;33m(\u001b[0m\u001b[0mself\u001b[0m\u001b[1;33m.\u001b[0m\u001b[0muserTime\u001b[0m \u001b[1;33m+\u001b[0m \u001b[0mself\u001b[0m\u001b[1;33m.\u001b[0m\u001b[0mcallTime\u001b[0m \u001b[1;33m+\u001b[0m \u001b[0mself\u001b[0m\u001b[1;33m.\u001b[0m\u001b[0mdelay\u001b[0m\u001b[1;33m)\u001b[0m \u001b[1;33m+\u001b[0m\u001b[0;31m \u001b[0m\u001b[0;31m\\\u001b[0m\u001b[1;33m\u001b[0m\u001b[1;33m\u001b[0m\u001b[0m\n\u001b[0;32m    219\u001b[0m                  \u001b[0mrenders\u001b[0m\u001b[1;33m*\u001b[0m\u001b[0mself\u001b[0m\u001b[1;33m.\u001b[0m\u001b[0mrenderTime\u001b[0m \u001b[1;33m+\u001b[0m \u001b[0msleeps\u001b[0m\u001b[1;33m*\u001b[0m\u001b[0mself\u001b[0m\u001b[1;33m.\u001b[0m\u001b[0minteractionPeriod\u001b[0m \u001b[1;33m-\u001b[0m \u001b[0m_clock\u001b[0m\u001b[1;33m(\u001b[0m\u001b[1;33m)\u001b[0m\u001b[1;33m\u001b[0m\u001b[1;33m\u001b[0m\u001b[0m\n\u001b[1;32m--> 220\u001b[1;33m             \u001b[0m_sleep\u001b[0m\u001b[1;33m(\u001b[0m\u001b[0mdt\u001b[0m\u001b[1;33m)\u001b[0m\u001b[1;33m\u001b[0m\u001b[1;33m\u001b[0m\u001b[0m\n\u001b[0m\u001b[0;32m    221\u001b[0m             \u001b[0mself\u001b[0m\u001b[1;33m.\u001b[0m\u001b[0mlastSleep\u001b[0m \u001b[1;33m=\u001b[0m \u001b[0m_clock\u001b[0m\u001b[1;33m(\u001b[0m\u001b[1;33m)\u001b[0m\u001b[1;33m\u001b[0m\u001b[1;33m\u001b[0m\u001b[0m\n\u001b[0;32m    222\u001b[0m             \u001b[0mself\u001b[0m\u001b[1;33m.\u001b[0m\u001b[0mcalls\u001b[0m \u001b[1;33m=\u001b[0m \u001b[1;36m0\u001b[0m\u001b[1;33m\u001b[0m\u001b[1;33m\u001b[0m\u001b[0m\n",
      "\u001b[1;32mC:\\ProgramData\\Anaconda3\\lib\\site-packages\\vpython\\rate_control.py\u001b[0m in \u001b[0;36m_sleep\u001b[1;34m(dt)\u001b[0m\n\u001b[0;32m     67\u001b[0m     \u001b[0mtend\u001b[0m \u001b[1;33m=\u001b[0m \u001b[0m_clock\u001b[0m\u001b[1;33m(\u001b[0m\u001b[1;33m)\u001b[0m\u001b[1;33m+\u001b[0m\u001b[0mdt\u001b[0m\u001b[1;33m\u001b[0m\u001b[1;33m\u001b[0m\u001b[0m\n\u001b[0;32m     68\u001b[0m     \u001b[1;32mwhile\u001b[0m \u001b[0m_clock\u001b[0m\u001b[1;33m(\u001b[0m\u001b[1;33m)\u001b[0m \u001b[1;33m<\u001b[0m \u001b[0mtend\u001b[0m\u001b[1;33m:\u001b[0m\u001b[1;33m\u001b[0m\u001b[1;33m\u001b[0m\u001b[0m\n\u001b[1;32m---> 69\u001b[1;33m         \u001b[1;32mpass\u001b[0m\u001b[1;33m\u001b[0m\u001b[1;33m\u001b[0m\u001b[0m\n\u001b[0m\u001b[0;32m     70\u001b[0m \u001b[1;33m\u001b[0m\u001b[0m\n\u001b[0;32m     71\u001b[0m \u001b[1;32mclass\u001b[0m \u001b[0msimulateDelay\u001b[0m\u001b[1;33m:\u001b[0m\u001b[1;33m\u001b[0m\u001b[1;33m\u001b[0m\u001b[0m\n",
      "\u001b[1;31mKeyboardInterrupt\u001b[0m: "
     ]
    }
   ],
   "source": [
    "from vpython import *\n",
    "scene = canvas()\n",
    "\n",
    "#constants\n",
    "deltat = 3600 #1 day\n",
    "G = 6.67e-11\n",
    "au = 149.6e6 *1000\n",
    "\n",
    "#system characteristics\n",
    "sun = sphere(pos = vector(au*0.1,0,0), radius=40.5e8, color=color.orange)\n",
    "sun.mass = 1.989e30\n",
    "\n",
    "mercury = sphere(pos = vector(au*0.4,0,0), radius = 2.44e6, color=color.white, make_trail = True)\n",
    "mercury.mass = 3.285e23\n",
    "mercury.velocity = vector(0,47.87e3,0)\n",
    "\n",
    "venus = sphere(pos = vector(au*0.72,0,0), radius = 6.05e6, color=color.green, make_trail = True)\n",
    "venus.mass = 4.867e24\n",
    "venus.velocity = vector(0,35.03e3,0)\n",
    "\n",
    "earth = sphere(pos = vector(au,0,0), radius = 6.37e6, color=color.blue, make_trail = True)\n",
    "earth.mass = 5.972e24\n",
    "earth.velocity = vector(0,29.78e3,0)\n",
    "\n",
    "mars = sphere(pos = vector(au*1.52,0,0), radius = 3.39e6, color=color.red, make_trail = True)\n",
    "mars.mass = 6.39e23\n",
    "mars.velocity = vector(0,24.077e3,0)\n",
    "\n",
    "while True:\n",
    "    rate(300)\n",
    "    for planet in [mercury, venus, earth, mars]:\n",
    "        r_pos = planet.pos - sun.pos\n",
    "        force = -G * sun.mass * planet.mass / mag(r_pos)**2 * norm(r_pos)\n",
    "        \n",
    "        planet.velocity = planet.velocity + force/planet.mass * deltat\n",
    "        planet.pos = planet.pos + planet.velocity * deltat"
   ]
  },
  {
   "cell_type": "markdown",
   "id": "841bf798",
   "metadata": {},
   "source": [
    "But, when the simulation time is sped up to 1 loop = 1 day (86400 seconds), you can see things get a little less accurate:\n",
    "\n",
    "this is because the rate at which the program is too low, so that the orbital velocity and position values get calculated in a very choppy manner. this is why having a balance between deltat and rate is extremely important"
   ]
  },
  {
   "cell_type": "code",
   "execution_count": null,
   "id": "b0966e0f",
   "metadata": {},
   "outputs": [
    {
     "data": {
      "text/html": [
       "<div id=\"glowscript\" class=\"glowscript\"></div>"
      ],
      "text/plain": [
       "<IPython.core.display.HTML object>"
      ]
     },
     "metadata": {},
     "output_type": "display_data"
    },
    {
     "data": {
      "application/javascript": [
       "if (typeof Jupyter !== \"undefined\") { window.__context = { glowscript_container: $(\"#glowscript\").removeAttr(\"id\")};}else{ element.textContent = ' ';}"
      ],
      "text/plain": [
       "<IPython.core.display.Javascript object>"
      ]
     },
     "metadata": {},
     "output_type": "display_data"
    }
   ],
   "source": [
    "from vpython import *\n",
    "scene = canvas()\n",
    "\n",
    "#constants\n",
    "deltat = 86400 #1 day\n",
    "G = 6.67e-11\n",
    "au = 149.6e6 *1000\n",
    "\n",
    "#system characteristics\n",
    "sun = sphere(pos = vector(au*0.1,0,0), radius=40.5e8, color=color.orange)\n",
    "sun.mass = 1.989e30\n",
    "\n",
    "mercury = sphere(pos = vector(au*0.4,0,0), radius = 2.44e6, color=color.white, make_trail = True)\n",
    "mercury.mass = 3.285e23\n",
    "mercury.velocity = vector(0,47.87e3,0)\n",
    "\n",
    "venus = sphere(pos = vector(au*0.72,0,0), radius = 6.05e6, color=color.green, make_trail = True)\n",
    "venus.mass = 4.867e24\n",
    "venus.velocity = vector(0,35.03e3,0)\n",
    "\n",
    "earth = sphere(pos = vector(au,0,0), radius = 6.37e6, color=color.blue, make_trail = True)\n",
    "earth.mass = 5.972e24\n",
    "earth.velocity = vector(0,29.78e3,0)\n",
    "\n",
    "mars = sphere(pos = vector(au*1.52,0,0), radius = 3.39e6, color=color.red, make_trail = True)\n",
    "mars.mass = 6.39e23\n",
    "mars.velocity = vector(0,24.077e3,0)\n",
    "\n",
    "while True:\n",
    "    rate(300)\n",
    "    for planet in [mercury, venus, earth, mars]:\n",
    "        r_pos = planet.pos - sun.pos\n",
    "        force = -G * sun.mass * planet.mass / mag(r_pos)**2 * norm(r_pos)\n",
    "        \n",
    "        planet.velocity = planet.velocity + force/planet.mass * deltat\n",
    "        planet.pos = planet.pos + planet.velocity * deltat"
   ]
  },
  {
   "cell_type": "code",
   "execution_count": null,
   "id": "5a7b8e2f",
   "metadata": {},
   "outputs": [],
   "source": []
  }
 ],
 "metadata": {
  "kernelspec": {
   "display_name": "Python 3 (ipykernel)",
   "language": "python",
   "name": "python3"
  },
  "language_info": {
   "codemirror_mode": {
    "name": "ipython",
    "version": 3
   },
   "file_extension": ".py",
   "mimetype": "text/x-python",
   "name": "python",
   "nbconvert_exporter": "python",
   "pygments_lexer": "ipython3",
   "version": "3.9.13"
  }
 },
 "nbformat": 4,
 "nbformat_minor": 5
}
