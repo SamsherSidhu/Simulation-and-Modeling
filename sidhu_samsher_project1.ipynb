{
 "cells": [
  {
   "cell_type": "markdown",
   "id": "169d326c",
   "metadata": {},
   "source": [
    "# 1.a Make a Ball Fall due to Gravity\n",
    "\n",
    "Assuming gravity is 9.8 m/s^2, Initial velocity is zero, and there is no air resistance\n",
    "\n",
    "The program will print the time it takes to fall 20 meters. It should be very close to 2.02 seconds, since t = sqrt((2*20)/g) = 2.0203"
   ]
  },
  {
   "cell_type": "code",
   "execution_count": 1,
   "id": "4b1f8e20",
   "metadata": {},
   "outputs": [
    {
     "data": {
      "text/html": [
       "<div id=\"glowscript\" class=\"glowscript\"></div>"
      ],
      "text/plain": [
       "<IPython.core.display.HTML object>"
      ]
     },
     "metadata": {},
     "output_type": "display_data"
    },
    {
     "data": {
      "application/javascript": [
       "if (typeof Jupyter !== \"undefined\") { window.__context = { glowscript_container: $(\"#glowscript\").removeAttr(\"id\")};}else{ element.textContent = ' ';}"
      ],
      "text/plain": [
       "<IPython.core.display.Javascript object>"
      ]
     },
     "metadata": {},
     "output_type": "display_data"
    },
    {
     "data": {
      "text/html": [
       "<div id=\"glowscript\" class=\"glowscript\"></div>"
      ],
      "text/plain": [
       "<IPython.core.display.HTML object>"
      ]
     },
     "metadata": {},
     "output_type": "display_data"
    },
    {
     "data": {
      "application/javascript": [
       "if (typeof Jupyter !== \"undefined\") { window.__context = { glowscript_container: $(\"#glowscript\").removeAttr(\"id\")};}else{ element.textContent = ' ';}"
      ],
      "text/plain": [
       "<IPython.core.display.Javascript object>"
      ]
     },
     "metadata": {},
     "output_type": "display_data"
    },
    {
     "data": {
      "application/javascript": [
       "if (typeof Jupyter !== \"undefined\") {require.undef(\"nbextensions/vpython_libraries/glow.min\");}else{element.textContent = ' ';}"
      ],
      "text/plain": [
       "<IPython.core.display.Javascript object>"
      ]
     },
     "metadata": {},
     "output_type": "display_data"
    },
    {
     "data": {
      "application/javascript": [
       "if (typeof Jupyter !== \"undefined\") {require.undef(\"nbextensions/vpython_libraries/glowcomm\");}else{element.textContent = ' ';}"
      ],
      "text/plain": [
       "<IPython.core.display.Javascript object>"
      ]
     },
     "metadata": {},
     "output_type": "display_data"
    },
    {
     "data": {
      "application/javascript": [
       "if (typeof Jupyter !== \"undefined\") {require.undef(\"nbextensions/vpython_libraries/jquery-ui.custom.min\");}else{element.textContent = ' ';}"
      ],
      "text/plain": [
       "<IPython.core.display.Javascript object>"
      ]
     },
     "metadata": {},
     "output_type": "display_data"
    },
    {
     "data": {
      "application/javascript": [
       "if (typeof Jupyter !== \"undefined\") {require([\"nbextensions/vpython_libraries/glow.min\"], function(){console.log(\"GLOW LOADED\");});}else{element.textContent = ' ';}"
      ],
      "text/plain": [
       "<IPython.core.display.Javascript object>"
      ]
     },
     "metadata": {},
     "output_type": "display_data"
    },
    {
     "data": {
      "application/javascript": [
       "if (typeof Jupyter !== \"undefined\") {require([\"nbextensions/vpython_libraries/glowcomm\"], function(){console.log(\"GLOWCOMM LOADED\");});}else{element.textContent = ' ';}"
      ],
      "text/plain": [
       "<IPython.core.display.Javascript object>"
      ]
     },
     "metadata": {},
     "output_type": "display_data"
    },
    {
     "data": {
      "application/javascript": [
       "if (typeof Jupyter !== \"undefined\") {require([\"nbextensions/vpython_libraries/jquery-ui.custom.min\"], function(){console.log(\"JQUERY LOADED\");});}else{element.textContent = ' ';}"
      ],
      "text/plain": [
       "<IPython.core.display.Javascript object>"
      ]
     },
     "metadata": {},
     "output_type": "display_data"
    },
    {
     "name": "stdout",
     "output_type": "stream",
     "text": [
      "t = 2.019999999999979\n"
     ]
    }
   ],
   "source": [
    "from vpython import *\n",
    "scene = canvas()\n",
    "\n",
    "ball = sphere(pos=vector(0,20,0), radius=0.5,color=color.cyan, make_trail=False)\n",
    "\n",
    "# velocity variables and updating position\n",
    "ball.velocity = vector(0,0,0)\n",
    "deltat = 0.005\n",
    "t = 0\n",
    "ball.pos = ball.pos + ball.velocity*deltat\n",
    "scene.autoscale = False \n",
    "while ball.pos.y > 0:\n",
    "    rate(100)\n",
    "    ball.velocity.y = ball.velocity.y + -9.8 * deltat\n",
    "    ball.pos.y = ball.pos.y + ball.velocity.y * deltat\n",
    "    t = t + deltat \n",
    "    \n",
    "print(\"t = \" + str(t))"
   ]
  },
  {
   "cell_type": "markdown",
   "id": "65061dcd",
   "metadata": {},
   "source": [
    "# 1.b Make a Ball do the big bounce\n",
    "\n",
    "Assuming gravity is 9.8 m/s^2, Initial velocity is zero, zero air resistance, and all collisions are perfectly elastic. \n",
    "\n",
    "The ball should bounce up and down in an identical motion and should not bounce higher or lower than the initial starting position\n",
    "\n",
    "Also, just to make the animation cleaner, I am making the bounds of the collisions be at the edge of the ball rather than the center. This is pretty easy to do, I just add the radius of the ball to the collision bound."
   ]
  },
  {
   "cell_type": "code",
   "execution_count": 2,
   "id": "d1b2a8c1",
   "metadata": {
    "scrolled": true
   },
   "outputs": [
    {
     "data": {
      "text/html": [
       "<div id=\"glowscript\" class=\"glowscript\"></div>"
      ],
      "text/plain": [
       "<IPython.core.display.HTML object>"
      ]
     },
     "metadata": {},
     "output_type": "display_data"
    },
    {
     "data": {
      "application/javascript": [
       "if (typeof Jupyter !== \"undefined\") { window.__context = { glowscript_container: $(\"#glowscript\").removeAttr(\"id\")};}else{ element.textContent = ' ';}"
      ],
      "text/plain": [
       "<IPython.core.display.Javascript object>"
      ]
     },
     "metadata": {},
     "output_type": "display_data"
    }
   ],
   "source": [
    "from vpython import *\n",
    "scene = canvas()\n",
    "\n",
    "ball = sphere(pos=vector(0,5,0), radius=0.5,color=color.cyan, make_trail=False)\n",
    "floor = box(pos=vector(0,-5,0), size=vector(12,0.2,12), color=color.green)\n",
    "\n",
    "# velocity variables and updating position\n",
    "ball.velocity = vector(0,0,0)\n",
    "deltat = 0.005\n",
    "t = 0\n",
    "ball.pos = ball.pos + ball.velocity*deltat\n",
    "scene.autoscale = False \n",
    "while t < 10:\n",
    "    rate(100)\n",
    "    if ball.pos.y < floor.pos.y + ball.radius:\n",
    "         ball.velocity.y = -ball.velocity.y\n",
    "    ball.velocity.y = ball.velocity.y + -9.8 * deltat\n",
    "    ball.pos.y = ball.pos.y + ball.velocity.y * deltat\n",
    "    t = t + deltat "
   ]
  },
  {
   "cell_type": "markdown",
   "id": "c3083093",
   "metadata": {},
   "source": [
    "# 1.c Launch ball through cannon\n",
    "\n",
    "Assuming gravity is 9.8 m/s^2, Initial velocity is **14.14** m/s (10 x-velocity and 10 y-velocity), initial height of **1 m**zero air resistance, and all collisions are perfectly inelastic. \n",
    "\n",
    "The ball should show parabolic motion at any given angle of trajectory. To make this more visible, the ball will leave a trail. The ball will stop when it hits the floor.\n",
    "\n",
    "To verify, the x-displacement of the ball should be near **44.8** at a launch angle of **45**. The x-position of the ball will be printed out at the bottom to compare. I "
   ]
  },
  {
   "cell_type": "code",
   "execution_count": 3,
   "id": "4b84b41d",
   "metadata": {
    "scrolled": true
   },
   "outputs": [
    {
     "data": {
      "text/html": [
       "<div id=\"glowscript\" class=\"glowscript\"></div>"
      ],
      "text/plain": [
       "<IPython.core.display.HTML object>"
      ]
     },
     "metadata": {},
     "output_type": "display_data"
    },
    {
     "data": {
      "application/javascript": [
       "if (typeof Jupyter !== \"undefined\") { window.__context = { glowscript_container: $(\"#glowscript\").removeAttr(\"id\")};}else{ element.textContent = ' ';}"
      ],
      "text/plain": [
       "<IPython.core.display.Javascript object>"
      ]
     },
     "metadata": {},
     "output_type": "display_data"
    },
    {
     "name": "stdout",
     "output_type": "stream",
     "text": [
      "x = 44.80000000000016\n"
     ]
    }
   ],
   "source": [
    "from vpython import *\n",
    "scene = canvas()\n",
    "\n",
    "ball = sphere(pos=vector(0,1,0), radius=0.5,color=color.cyan, make_trail=True)\n",
    "floor = box(pos=vector(0,0,0), size=vector(150,0.2,12), color=color.green)\n",
    "\n",
    "# velocity variables and updating position\n",
    "ball.velocity = vector(10,10,0)\n",
    "deltat = 0.005\n",
    "t = 0\n",
    "ball.pos = ball.pos + ball.velocity*deltat\n",
    "scene.autoscale = False \n",
    "while ball.pos.y > 0.7:\n",
    "    rate(100)\n",
    "    if ball.pos.y < floor.pos.y:\n",
    "         ball.velocity.y = -ball.velocity.y\n",
    "    ball.velocity.y = ball.velocity.y + -9.8 * deltat\n",
    "    ball.pos.y = ball.pos.y + ball.velocity.y * deltat\n",
    "    ball.pos.x = ball.pos.x + ball.velocity.x*deltat\n",
    "    t = t + deltat \n",
    "print(\"x = \" + str(ball.pos.x + 24))"
   ]
  },
  {
   "cell_type": "markdown",
   "id": "4ae8ba73",
   "metadata": {},
   "source": [
    "# 1.d Ball Falling With Air Resistance\n",
    "\n",
    "Assuming gravity is 9.8 m/s^2, Initial velocity is zero, drag coefficient of air is 0.05, air density is 1.225 kg/m^3, the ball weights 1 kg.\n",
    "\n",
    "reference for air resistance: https://www.grc.nasa.gov/www/k-12/VirtualAero/BottleRocket/airplane/falling.html\n",
    "\n",
    "I found that with a basic air resistance equation, it does not have a terminal velocity. However, the graph does show that objects with air resistance accelerate and fall slower than those without air resistance"
   ]
  },
  {
   "cell_type": "code",
   "execution_count": 3,
   "id": "d35bd1a2",
   "metadata": {
    "scrolled": true
   },
   "outputs": [
    {
     "data": {
      "text/html": [
       "<div id=\"glowscript\" class=\"glowscript\"></div>"
      ],
      "text/plain": [
       "<IPython.core.display.HTML object>"
      ]
     },
     "metadata": {},
     "output_type": "display_data"
    },
    {
     "data": {
      "application/javascript": [
       "if (typeof Jupyter !== \"undefined\") { window.__context = { glowscript_container: $(\"#glowscript\").removeAttr(\"id\")};}else{ element.textContent = ' ';}"
      ],
      "text/plain": [
       "<IPython.core.display.Javascript object>"
      ]
     },
     "metadata": {},
     "output_type": "display_data"
    },
    {
     "data": {
      "image/png": "[encoded data removed]",
      "text/plain": [
       "<Figure size 640x480 with 1 Axes>"
      ]
     },
     "metadata": {},
     "output_type": "display_data"
    }
   ],
   "source": [
    "from vpython import *\n",
    "import matplotlib.pyplot as plt\n",
    "import numpy as np\n",
    "scene = canvas()\n",
    "\n",
    "ball = sphere(pos=vector(0,20,0), radius=0.5,color=color.cyan, make_trail=False)\n",
    "ball2 = sphere(pos=vector(1,30,0), radius=0.5,color=color.red, make_trail=False)\n",
    "ball3 = sphere(pos=vector(2,40,0), radius=0.5,color=color.green, make_trail=False)\n",
    "ball4 = sphere(pos=vector(3,50,0), radius=0.5,color=color.purple, make_trail=False)\n",
    "ball5 = sphere(pos=vector(4,20,0), radius=0.5,color=color.white, make_trail=False)\n",
    "\n",
    "# arrays to plot\n",
    "bArr1 = []\n",
    "bArr2 = []\n",
    "bArr3 = []\n",
    "bArr4 = []\n",
    "bArr5 = []\n",
    "\n",
    "# velocity variables and updating position\n",
    "ball.velocity = vector(0,0,0)\n",
    "ball2.velocity = vector(0,0,0)\n",
    "ball3.velocity = vector(0,0,0)\n",
    "ball4.velocity = vector(0,0,0)\n",
    "ball5.velocity = vector(0,0,0)\n",
    "deltat = 0.005\n",
    "t = 0\n",
    "ball.pos = ball.pos + ball.velocity*deltat\n",
    "ball2.pos = ball.pos + ball2.velocity*deltat\n",
    "ball3.pos = ball.pos + ball3.velocity*deltat\n",
    "ball4.pos = ball.pos + ball4.velocity*deltat\n",
    "ball5.pos = ball.pos + ball5.velocity*deltat\n",
    "scene.autoscale = False \n",
    "def accel(v):\n",
    "    a = 0.05 * (1.225/2) * v * (3.14*0.25)\n",
    "    return (9.8 + a)\n",
    "\n",
    "while t < 5:\n",
    "    rate(100)\n",
    "    ball.velocity.y = ball.velocity.y + -(accel(ball.velocity.y)) * deltat\n",
    "    ball.pos.y = ball.pos.y + ball.velocity.y * deltat\n",
    "    bArr1.append(ball.velocity.y)\n",
    "    \n",
    "    ball2.velocity.y = ball2.velocity.y + -(accel(ball2.velocity.y)) * deltat\n",
    "    ball2.pos.y = ball2.pos.y + ball2.velocity.y * deltat\n",
    "    bArr2.append(ball2.velocity.y)\n",
    "    \n",
    "    ball3.velocity.y = ball3.velocity.y + -(accel(ball3.velocity.y)) * deltat\n",
    "    ball3.pos.y = ball3.pos.y + ball3.velocity.y * deltat\n",
    "    bArr3.append(ball3.velocity.y)\n",
    "    \n",
    "    ball4.velocity.y = ball4.velocity.y + -(accel(ball4.velocity.y)) * deltat\n",
    "    ball4.pos.y = ball4.pos.y + ball4.velocity.y * deltat\n",
    "    bArr4.append(ball4.velocity.y)\n",
    "    \n",
    "    ball5.velocity.y = ball5.velocity.y + -9.8 * deltat\n",
    "    ball5.pos.y = ball5.pos.y + ball5.velocity.y * deltat\n",
    "    bArr5.append(ball5.velocity.y)\n",
    "    \n",
    "    t = t + deltat \n",
    "\n",
    "x = np.linspace(0,t,1001)\n",
    "plt.plot(x, bArr1, label = \"Ball 1\")\n",
    "plt.plot(x, bArr2, label = \"Ball 2\")\n",
    "plt.plot(x, bArr3, label = \"Ball 3\")\n",
    "plt.plot(x, bArr4, label = \"Ball 4\")\n",
    "plt.plot(x, bArr5, label = \"Ball 5 (no air resistance)\")\n",
    "plt.legend()\n",
    "plt.show()"
   ]
  },
  {
   "cell_type": "markdown",
   "id": "a6f3055d",
   "metadata": {},
   "source": [
    "# 1.e Ball bouncing with inelastic collisions\n",
    "Assuming gravity is 9.8 m/s^2, Initial velocity is zero, zero air resistance, and all collisions are inelastic. Both the weight of the floor (as an object) and the ball are 1 kg, which makes the velocity of the ball decrease by 50% per impact. This is shown in the following equation: https://byjus.com/physics/inelastic-collision/\n",
    "\n",
    "The ball should bounce up and down, and it should reach a quarter the height of the previous bounce\n",
    "\n",
    "Also, just to make the animation cleaner, I am making the bounds of the collisions be at the edge of the ball rather than the center. This is pretty easy to do, I just add the radius of the ball to the collision bound."
   ]
  },
  {
   "cell_type": "code",
   "execution_count": 8,
   "id": "5b7190bb",
   "metadata": {
    "scrolled": true
   },
   "outputs": [
    {
     "data": {
      "text/html": [
       "<div id=\"glowscript\" class=\"glowscript\"></div>"
      ],
      "text/plain": [
       "<IPython.core.display.HTML object>"
      ]
     },
     "metadata": {},
     "output_type": "display_data"
    },
    {
     "data": {
      "application/javascript": [
       "if (typeof Jupyter !== \"undefined\") { window.__context = { glowscript_container: $(\"#glowscript\").removeAttr(\"id\")};}else{ element.textContent = ' ';}"
      ],
      "text/plain": [
       "<IPython.core.display.Javascript object>"
      ]
     },
     "metadata": {},
     "output_type": "display_data"
    }
   ],
   "source": [
    "from vpython import *\n",
    "scene = canvas()\n",
    "\n",
    "ball = sphere(pos=vector(0,5,0), radius=0.5,color=color.cyan, make_trail=False)\n",
    "floor = box(pos=vector(0,-5,0), size=vector(12,0.2,12), color=color.green)\n",
    "\n",
    "# velocity variables and updating position\n",
    "ball.velocity = vector(0,0,0)\n",
    "deltat = 0.005\n",
    "t = 0\n",
    "ball.pos = ball.pos + ball.velocity*deltat\n",
    "scene.autoscale = False \n",
    "while t < 10:\n",
    "    rate(100)\n",
    "    if ball.pos.y < floor.pos.y + ball.radius:\n",
    "         ball.velocity.y = -ball.velocity.y * 0.5\n",
    "    ball.velocity.y = ball.velocity.y + -9.8 * deltat\n",
    "    ball.pos.y = ball.pos.y + ball.velocity.y * deltat\n",
    "    t = t + deltat "
   ]
  },
  {
   "cell_type": "code",
   "execution_count": null,
   "id": "ef5a44d8",
   "metadata": {},
   "outputs": [],
   "source": []
  }
 ],
 "metadata": {
  "kernelspec": {
   "display_name": "Python 3 (ipykernel)",
   "language": "python",
   "name": "python3"
  },
  "language_info": {
   "codemirror_mode": {
    "name": "ipython",
    "version": 3
   },
   "file_extension": ".py",
   "mimetype": "text/x-python",
   "name": "python",
   "nbconvert_exporter": "python",
   "pygments_lexer": "ipython3",
   "version": "3.9.13"
  }
 },
 "nbformat": 4,
 "nbformat_minor": 5
}
