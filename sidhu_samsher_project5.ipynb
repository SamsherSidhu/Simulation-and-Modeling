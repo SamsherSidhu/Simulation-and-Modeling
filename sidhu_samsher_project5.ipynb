{
 "cells": [
  {
   "cell_type": "markdown",
   "id": "a548dcfb",
   "metadata": {},
   "source": [
    "# Project 5: Logic Gates and Gate Nets\n",
    "Outside of residual knowledge from 201, I got help from Ryan Hankee who suggested I do this sim in OOP-style rather than my normal code throwup. I got a hand with the class structure (Logic -> Gate -> NAND/NOR/NOT). I implemented a verstatile simulation method using the class structure that will operate on both single and combinational gate simulations, defaulting to single gate sims."
   ]
  },
  {
   "cell_type": "code",
   "execution_count": 26,
   "id": "ff3a178b",
   "metadata": {},
   "outputs": [],
   "source": [
    "from vpython import*\n",
    "from queue import PriorityQueue\n",
    "\n",
    "class Net:\n",
    "    def __init__(self, driver, obj, time, on=0):\n",
    "        self.value = None\n",
    "        self.obj = obj\n",
    "        self.driver = driver\n",
    "        self.receivers = []\n",
    "        self.on = on \n",
    "        self.time = time\n",
    "        \n",
    "    def set(self, value):\n",
    "        if self.value == value:\n",
    "            return \n",
    "        \n",
    "        self.value = value\n",
    "        \n",
    "        if self.on:\n",
    "            self.driver.evaluate()\n",
    "            \n",
    "        for c in self.receivers:\n",
    "            c.set(value)\n",
    "\n",
    "    def connect(self, inputs):\n",
    "        if not isinstance(inputs, list):\n",
    "            inputs = [inputs]\n",
    "            \n",
    "        for input in inputs:\n",
    "            self.receivers.append(input)\n",
    "\n",
    "\n",
    "class Logic:\n",
    "    def __init__(self, name):\n",
    "        self.name = name\n",
    "\n",
    "    def evaluate(self):\n",
    "        return\n",
    "\n",
    "class Gate(Logic):        \n",
    "    def __init__(self, name, obj, delay):\n",
    "        Logic.__init__(self, name)\n",
    "        self.obj = obj\n",
    "        self.A = Net(self, 0, time=0, on=1)\n",
    "        self.B = Net(self, 1, time=0, on=1)\n",
    "        self.C = Net(self, 2, time=delay, on=1)\n",
    "\n",
    "class Not(Gate):     \n",
    "    def __init__(self, name, obj, delay):\n",
    "        Gate.__init__(self, name)\n",
    "        self.obj = obj\n",
    "        self.A = Net(self, 0, time=0, on=1)\n",
    "        self.B = Net(self, 2, time=delay, on=1)\n",
    "\n",
    "    def evaluate(self):\n",
    "        result = not self.A.value\n",
    "        self.B.set(int(result))\n",
    "\n",
    "class Nor(Gate):         \n",
    "    def __init__(self, name, obj):\n",
    "        Gate.__init__(self, name, obj, 1)\n",
    "\n",
    "    def evaluate(self):\n",
    "        result = not(self.A.value or self.B.value)\n",
    "        self.C.set(int(result))\n",
    "   \n",
    "class Nand(Gate):       \n",
    "    def __init__(self, name, obj):\n",
    "        Gate.__init__(self, name, obj, 1)\n",
    "        \n",
    "    def evaluate(self):\n",
    "        result = not(self.A.value and self.B.value)\n",
    "        self.C.set(int(result))\n",
    "\n",
    "class Event:\n",
    "    \n",
    "    def __init__(self, net, t):\n",
    "        self.obj = net \n",
    "        self.value = net.value \n",
    "        self.time = net.time + t\n",
    "        self.type = net.obj\n",
    "        \n",
    "    def __lessEq__(self, other): return self.time <= other.time\n",
    "    \n",
    "    def __less__(self, other): return self.time < other.time\n",
    "        \n",
    "    def __eq__(self, other): return self.time == other.time\n",
    "    \n",
    "    def __great__(self, other): return self.time > other.time\n",
    "    \n",
    "    def __greatEq__(self, other): return self.time >= other.time\n",
    "        \n",
    "   \n",
    "def setInput(gate, a, b):\n",
    "    gate.A.set(a)\n",
    "    gate.B.set(b)\n",
    "\n",
    "def netUpdate(gate, input_values, index):\n",
    "    a,b = input_values[index]\n",
    "    setInput(gate, a, b)\n",
    "\n",
    "def getEvent(eq1, eq2, eq3):\n",
    "    e1 = eq1.get()\n",
    "    e2 = eq2.get()\n",
    "    e3 = eq3.get()\n",
    "    return e1, e2, e3\n",
    "\n",
    "def eventInit(gate, values, time):\n",
    "    event_q1 = PriorityQueue()\n",
    "    event_q2 = PriorityQueue()\n",
    "    event_q3 = PriorityQueue()\n",
    "\n",
    "    netUpdate(gate, values, 0)\n",
    "\n",
    "    e1 = Event(gate.A, time)\n",
    "    e2 = Event(gate.B, time)\n",
    "    e3 = Event(gate.C, time)\n",
    "\n",
    "    event_q1.put(e1)\n",
    "    event_q2.put(e2)\n",
    "    event_q3.put(e3)\n",
    "    return event_q1, event_q2, event_q3\n",
    "\n",
    "def eventNetInit(gate, input1, input2, values, time):\n",
    "    event_q1 = PriorityQueue()\n",
    "    event_q2 = PriorityQueue()\n",
    "    event_q3 = PriorityQueue()\n",
    "\n",
    "    netUpdate(input1, values, 0)\n",
    "    netUpdate(input2, values, 0)\n",
    "\n",
    "    e1 = Event(gate.A, time)\n",
    "    e2 = Event(gate.B, time)\n",
    "    e3 = Event(gate.C, time)\n",
    "\n",
    "    event_q1.put(e1)\n",
    "    event_q2.put(e2)\n",
    "    event_q3.put(e3)\n",
    "\n",
    "    return event_q1, event_q2, event_q3\n",
    "\n",
    "def sim(t, clock, setup, values, gate, gate2, g1, g2, g3, oneOrTwo):\n",
    "    index = 1\n",
    "    e1, e2, e3 = setup\n",
    "    while not (e3.empty()):\n",
    "        event1, event2, event3 = getEvent(e1, e2, e3)\n",
    "        t += event3.time - clock\n",
    "        clock = t\n",
    "\n",
    "        g1.plot(clock, event1.value)\n",
    "        g2.plot(clock, event2.value)\n",
    "        g3.plot(clock, event3.value)\n",
    "\n",
    "\n",
    "        if index < len(values):\n",
    "            if oneOrTwo == 2:\n",
    "                netUpdate(gate, values, index)\n",
    "                netUpdate(gate2, values, index)\n",
    "            else:\n",
    "                netUpdate(gate, values, index)\n",
    "\n",
    "            index += 1\n",
    "\n",
    "            next_event1 = Event(event1.obj, clock)\n",
    "            next_event2 = Event(event2.obj, clock)\n",
    "            next_event3 = Event(event3.obj, clock)\n",
    "            e1.put(next_event1)\n",
    "            e2.put(next_event2)\n",
    "            e3.put(next_event3)\n",
    "            g1.plot(clock, next_event1.value)\n",
    "            g2.plot(clock, next_event2.value)\n",
    "            g3.plot(clock, next_event3.value)\n",
    "\n"
   ]
  },
  {
   "cell_type": "markdown",
   "id": "587cc239",
   "metadata": {},
   "source": [
    "# NAND verification"
   ]
  },
  {
   "cell_type": "code",
   "execution_count": 31,
   "id": "361b634a",
   "metadata": {},
   "outputs": [
    {
     "data": {
      "text/html": [
       "<div id=\"glowscript\" class=\"glowscript\"></div>"
      ],
      "text/plain": [
       "<IPython.core.display.HTML object>"
      ]
     },
     "metadata": {},
     "output_type": "display_data"
    },
    {
     "data": {
      "application/javascript": [
       "if (typeof Jupyter !== \"undefined\") { window.__context = { glowscript_container: $(\"#glowscript\").removeAttr(\"id\")};}else{ element.textContent = ' ';}"
      ],
      "text/plain": [
       "<IPython.core.display.Javascript object>"
      ]
     },
     "metadata": {},
     "output_type": "display_data"
    }
   ],
   "source": [
    "scene = canvas()\n",
    "t = 0\n",
    "clock = 0\n",
    "nand = Nand('nand1', 0)\n",
    "truth_values = [(1,1), (0,0), (0,0), (0,1), (1,0), (1,1), (0,0), (0,1), (1,0), (1,1), (0,0), (0,1), (1,0), (1,1)]\n",
    "g1 = graph(title=\"Input Signal A\", xtitle='time', ytitle='boolean signal', fast=False, width=1000)\n",
    "g2 = graph(title=\"Input Signal B\", xtitle='time', ytitle='boolean signal', fast=False, width=1000)\n",
    "g3 = graph(title=\"Output Signal AB\", xtitle='time', ytitle='boolean signal', fast=False, width=1000)\n",
    "netA = gcurve(graph=g1, color=color.red, width=5, markers=True, marker_color=color.black, label='netA')\n",
    "netB = gcurve(graph=g2, color=color.green, width=5, markers=True, marker_color=color.black, label='netB')\n",
    "netC = gcurve(graph=g3, color=color.blue, width=5, markers=True, marker_color=color.black, label='nand')\n",
    "\n",
    "sim(t, clock, setup_event(nand, truth_values, t), truth_values, nand, nand, netA, netB, netC, 1)"
   ]
  },
  {
   "cell_type": "markdown",
   "id": "9b01c7fe",
   "metadata": {},
   "source": [
    "# NOR Verification"
   ]
  },
  {
   "cell_type": "code",
   "execution_count": 30,
   "id": "be28ab32",
   "metadata": {},
   "outputs": [
    {
     "data": {
      "text/html": [
       "<div id=\"glowscript\" class=\"glowscript\"></div>"
      ],
      "text/plain": [
       "<IPython.core.display.HTML object>"
      ]
     },
     "metadata": {},
     "output_type": "display_data"
    },
    {
     "data": {
      "application/javascript": [
       "if (typeof Jupyter !== \"undefined\") { window.__context = { glowscript_container: $(\"#glowscript\").removeAttr(\"id\")};}else{ element.textContent = ' ';}"
      ],
      "text/plain": [
       "<IPython.core.display.Javascript object>"
      ]
     },
     "metadata": {},
     "output_type": "display_data"
    }
   ],
   "source": [
    "scene = canvas()\n",
    "t = 0\n",
    "clock = 0\n",
    "nor = Nor('nor1', 0)\n",
    "truth_table = [(0,1), (0,1), (0,0), (0,1), (1,0), (1,1), (0,0), (0,1), (1,0), (1,1), (0,0), (0,1), (1,0), (1,1)]\n",
    "g4 = graph(title=\"Input Signal A\", xtitle='time', ytitle='boolean signal', fast=False, width=1000)\n",
    "g5 = graph(title=\"Input Signal B\", xtitle='time', ytitle='boolean signal', fast=False, width=1000)\n",
    "g6 = graph(title=\"Output Signal AB\", xtitle='time', ytitle='boolean signal', fast=False, width=1000)\n",
    "netD = gcurve(graph=g4, color=color.red, width=5, markers=True, marker_color=color.black, label='netA')\n",
    "netE = gcurve(graph=g5, color=color.green, width=5, markers=True, marker_color=color.black, label='netB')\n",
    "netF = gcurve(graph=g6, color=color.blue, width=5, markers=True, marker_color=color.black, label='nor')\n",
    "\n",
    "sim(t, clock, setup_event(nor, truth_table, t), truth_table, nor, nor, netD, netE, netF, 1)"
   ]
  },
  {
   "cell_type": "markdown",
   "id": "56b8907f",
   "metadata": {},
   "source": [
    "# Combinational NAND"
   ]
  },
  {
   "cell_type": "code",
   "execution_count": 28,
   "id": "94c947e4",
   "metadata": {},
   "outputs": [
    {
     "data": {
      "text/html": [
       "<div id=\"glowscript\" class=\"glowscript\"></div>"
      ],
      "text/plain": [
       "<IPython.core.display.HTML object>"
      ]
     },
     "metadata": {},
     "output_type": "display_data"
    },
    {
     "data": {
      "application/javascript": [
       "if (typeof Jupyter !== \"undefined\") { window.__context = { glowscript_container: $(\"#glowscript\").removeAttr(\"id\")};}else{ element.textContent = ' ';}"
      ],
      "text/plain": [
       "<IPython.core.display.Javascript object>"
      ]
     },
     "metadata": {},
     "output_type": "display_data"
    }
   ],
   "source": [
    "scene = canvas()\n",
    "t = 0\n",
    "clock = 0\n",
    "nand1 = Nand('nand1', 0)\n",
    "nand2 = Nand('nand2', 1)\n",
    "nand3 = Nand('nand3', 2)\n",
    "nand1.C.connect([nand3.A])\n",
    "nand2.C.connect([nand3.B])\n",
    "g7 = graph(title=\"NAND1 Output\", xtitle='time', ytitle='value', fast=False, width=800)\n",
    "g8 = graph(title=\"NAND2 Output\", xtitle='time', ytitle='value', fast=False, width=800)\n",
    "g9 = graph(title=\"Network Output\", xtitle='time', ytitle='value', fast=False, width=900)\n",
    "netG = gcurve(graph=g7, color=color.blue, width=5, markers=True, marker_color=color.black, label='net1')\n",
    "netH = gcurve(graph=g8, color=color.yellow, width=5, markers=True, marker_color=color.black, label='net2')\n",
    "netI = gcurve(graph=g9, color=color.red, width=5, markers=True, marker_color=color.black, label='Nand3')\n",
    "\n",
    "sim(t, clock, setup_Net_event(nand3, nand1, nand2, truth_values, t), truth_values, nand1, nand2, netG, netH, netI, 2)"
   ]
  },
  {
   "cell_type": "markdown",
   "id": "70ff72c2",
   "metadata": {},
   "source": [
    "# Combinational NOR"
   ]
  },
  {
   "cell_type": "code",
   "execution_count": 29,
   "id": "c00fb414",
   "metadata": {},
   "outputs": [
    {
     "data": {
      "text/html": [
       "<div id=\"glowscript\" class=\"glowscript\"></div>"
      ],
      "text/plain": [
       "<IPython.core.display.HTML object>"
      ]
     },
     "metadata": {},
     "output_type": "display_data"
    },
    {
     "data": {
      "application/javascript": [
       "if (typeof Jupyter !== \"undefined\") { window.__context = { glowscript_container: $(\"#glowscript\").removeAttr(\"id\")};}else{ element.textContent = ' ';}"
      ],
      "text/plain": [
       "<IPython.core.display.Javascript object>"
      ]
     },
     "metadata": {},
     "output_type": "display_data"
    }
   ],
   "source": [
    "scene = canvas()\n",
    "t = 0\n",
    "clock = 0\n",
    "nor1 = Nor('nor1', 0)\n",
    "nor2 = Nor('nor2', 1)\n",
    "nor3 = Nor('nor3', 2)\n",
    "nor1.C.connect([nor3.A])\n",
    "nor2.C.connect([nor3.B])\n",
    "g10 = graph(title=\"NOR1 Output\", xtitle='time', ytitle='value', fast=False, width=800)\n",
    "g11 = graph(title=\"NOR2 Output\", xtitle='time', ytitle='value', fast=False, width=800)\n",
    "g12 = graph(title=\"Network Output\", xtitle='time', ytitle='value', fast=False, width=900)\n",
    "netJ = gcurve(graph=g10, color=color.blue, width=5, markers=True, marker_color=color.black, label='net1')\n",
    "netK = gcurve(graph=g11, color=color.yellow, width=5, markers=True, marker_color=color.black, label='net2')\n",
    "netL = gcurve(graph=g12, color=color.red, width=5, markers=True, marker_color=color.black, label='NOR3')\n",
    "\n",
    "sim(t, clock, setup_Net_event(nor3, nor1, nor2, truth_values, t), truth_values, nor1, nor2, netJ, netK, netL, 2)"
   ]
  },
  {
   "cell_type": "markdown",
   "id": "9b080018",
   "metadata": {},
   "source": [
    "# D Latch (NAND)"
   ]
  },
  {
   "cell_type": "code",
   "execution_count": null,
   "id": "5ca66dee",
   "metadata": {},
   "outputs": [],
   "source": [
    "clk = 0\n",
    "systemClk = 0\n",
    "clock_values = [0,1,1,0,1,1,0,1,1,0,0]\n",
    "data_values =  [0,0,1,0,0,1,0,0,1,1,0]\n",
    "\n",
    "nand1 = Nand('nand1_S', 0)\n",
    "nand2 = Nand('nand2_R', 1)\n",
    "nand3 = Nand('nand3_Q', 2)\n",
    "nand4 = Nand('nand4_Qb', 3)\n",
    "not1 = Not('not1', 0, 1)\n",
    "\n",
    "nand1.B.connect([nand2.A])\n",
    "nand1.C.connect([nand3.A])\n",
    "nand1.A.connect([not1.A])\n",
    "not1.B.connect([nand2.B])\n",
    "nand4.C.connect([nand3.B])\n",
    "nand2.C.connect([nand4.B])\n",
    "nand3.C.connect([nand4.A])\n",
    "\n",
    "nand1.A.set(data_values[0])\n",
    "nand1.B.set(clock_values[0])\n",
    "\n",
    "## Not sure where to go from here ##"
   ]
  }
 ],
 "metadata": {
  "kernelspec": {
   "display_name": "Python 3 (ipykernel)",
   "language": "python",
   "name": "python3"
  },
  "language_info": {
   "codemirror_mode": {
    "name": "ipython",
    "version": 3
   },
   "file_extension": ".py",
   "mimetype": "text/x-python",
   "name": "python",
   "nbconvert_exporter": "python",
   "pygments_lexer": "ipython3",
   "version": "3.9.13"
  }
 },
 "nbformat": 4,
 "nbformat_minor": 5
}
